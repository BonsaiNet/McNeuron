{
 "cells": [
  {
   "cell_type": "code",
   "execution_count": 20,
   "metadata": {
    "collapsed": true
   },
   "outputs": [],
   "source": [
    "import McNeuron\n",
    "import numpy as np\n",
    "from random import randint\n",
    "import matplotlib.pyplot as plt"
   ]
  },
  {
   "cell_type": "code",
   "execution_count": 82,
   "metadata": {},
   "outputs": [
    {
     "name": "stdout",
     "output_type": "stream",
     "text": [
      "half\n"
     ]
    }
   ],
   "source": [
    "# READ GENERATED NEURON DATA\n",
    "totalDocs = 100\n",
    "size = int(totalDocs/2)\n",
    "part1 = '/Users/anirudhnatarajan/Documents/UPenn/neuronData/MATLAB/tree'\n",
    "part2 = '.txt'\n",
    "trainG = [0] * size\n",
    "testG = [0] * size\n",
    "randG = np.linspace(0,totalDocs-1,totalDocs)\n",
    "\n",
    "for i in range(0,len(trainG)) :\n",
    "    r = randint(0,len(randG)-1)\n",
    "    n = McNeuron.Neuron(part1 + str(int(randG[r])) + part2)\n",
    "    randG = np.delete(randG,r)\n",
    "    n.l_measure_features()\n",
    "    trainG[i] = n.getNeuronVector()\n",
    "print('half')\n",
    "for i in range(0,len(testG)) :\n",
    "    r = randint(0,len(randG)-1)\n",
    "    n = McNeuron.Neuron(part1 + str(int(randG[r])) + part2)\n",
    "    randG = np.delete(randG,r)\n",
    "    n.l_measure_features()\n",
    "    testG[i] = n.getNeuronVector()"
   ]
  },
  {
   "cell_type": "code",
   "execution_count": 19,
   "metadata": {},
   "outputs": [
    {
     "data": {
      "text/html": [
       "<div>\n",
       "<style>\n",
       "    .dataframe thead tr:only-child th {\n",
       "        text-align: right;\n",
       "    }\n",
       "\n",
       "    .dataframe thead th {\n",
       "        text-align: left;\n",
       "    }\n",
       "\n",
       "    .dataframe tbody tr th {\n",
       "        vertical-align: top;\n",
       "    }\n",
       "</style>\n",
       "<table border=\"1\" class=\"dataframe\">\n",
       "  <thead>\n",
       "    <tr style=\"text-align: right;\">\n",
       "      <th></th>\n",
       "      <th>Archive Name</th>\n",
       "      <th>Average Bifurcation Angle Local</th>\n",
       "      <th>Average Bifurcation Angle Remote</th>\n",
       "      <th>Average Contraction</th>\n",
       "      <th>Average Diameter</th>\n",
       "      <th>Average Rall's Ratio</th>\n",
       "      <th>Date of Deposition</th>\n",
       "      <th>Date of Upload</th>\n",
       "      <th>Development</th>\n",
       "      <th>Experiment Protocol</th>\n",
       "      <th>...</th>\n",
       "      <th>Structural Domains</th>\n",
       "      <th>Tertiary Brain Region</th>\n",
       "      <th>Tertiary Cell Class</th>\n",
       "      <th>Tissue Shrinkage</th>\n",
       "      <th>Total Fragmentation</th>\n",
       "      <th>Total Length</th>\n",
       "      <th>Total Surface</th>\n",
       "      <th>Total Volume</th>\n",
       "      <th>link in neuromorpho</th>\n",
       "      <th>swc</th>\n",
       "    </tr>\n",
       "  </thead>\n",
       "  <tbody>\n",
       "    <tr>\n",
       "      <th>0</th>\n",
       "      <td>Wearne_Hof</td>\n",
       "      <td>33.38deg</td>\n",
       "      <td>50.46deg</td>\n",
       "      <td>0.93</td>\n",
       "      <td>0.54 mm</td>\n",
       "      <td>1.53</td>\n",
       "      <td>2005-12-31</td>\n",
       "      <td>2006-08-01</td>\n",
       "      <td>old</td>\n",
       "      <td>in vivo</td>\n",
       "      <td>...</td>\n",
       "      <td>Dendrites, Soma, No Axon</td>\n",
       "      <td>layer 3</td>\n",
       "      <td>Local projecting</td>\n",
       "      <td>Reported (no values given)\\nNot corrected</td>\n",
       "      <td>1274</td>\n",
       "      <td>4911.5 mm</td>\n",
       "      <td>8842.91 mm2</td>\n",
       "      <td>4725.89 mm3</td>\n",
       "      <td>http://neuromorpho.org/neuron_info.jsp?neuron_...</td>\n",
       "      <td>[[1.0, 1.0, 0.0, 0.0, 0.0, 8.1498, -1.0], [2.0...</td>\n",
       "    </tr>\n",
       "    <tr>\n",
       "      <th>1</th>\n",
       "      <td>Wearne_Hof</td>\n",
       "      <td>38.26deg</td>\n",
       "      <td>45.91deg</td>\n",
       "      <td>0.93</td>\n",
       "      <td>0.54 mm</td>\n",
       "      <td>1.49</td>\n",
       "      <td>2005-12-31</td>\n",
       "      <td>2006-08-01</td>\n",
       "      <td>old</td>\n",
       "      <td>in vivo</td>\n",
       "      <td>...</td>\n",
       "      <td>Dendrites, Soma, No Axon</td>\n",
       "      <td>layer 3</td>\n",
       "      <td>Local projecting</td>\n",
       "      <td>Reported (no values given)\\nNot corrected</td>\n",
       "      <td>1033</td>\n",
       "      <td>4144.17 mm</td>\n",
       "      <td>7257.42 mm2</td>\n",
       "      <td>3468.16 mm3</td>\n",
       "      <td>http://neuromorpho.org/neuron_info.jsp?neuron_...</td>\n",
       "      <td>[[1.0, 1.0, 0.0, 0.0, 0.0, 7.3084, -1.0], [2.0...</td>\n",
       "    </tr>\n",
       "    <tr>\n",
       "      <th>2</th>\n",
       "      <td>Wearne_Hof</td>\n",
       "      <td>39.13deg</td>\n",
       "      <td>55.73deg</td>\n",
       "      <td>0.92</td>\n",
       "      <td>0.51 mm</td>\n",
       "      <td>1.58</td>\n",
       "      <td>2005-12-31</td>\n",
       "      <td>2006-08-01</td>\n",
       "      <td>old</td>\n",
       "      <td>in vivo</td>\n",
       "      <td>...</td>\n",
       "      <td>Dendrites, Soma, No Axon</td>\n",
       "      <td>layer 3</td>\n",
       "      <td>Local projecting</td>\n",
       "      <td>Reported (no values given)\\nNot corrected</td>\n",
       "      <td>1407</td>\n",
       "      <td>6222.5 mm</td>\n",
       "      <td>10130.4 mm2</td>\n",
       "      <td>4742.74 mm3</td>\n",
       "      <td>http://neuromorpho.org/neuron_info.jsp?neuron_...</td>\n",
       "      <td>[[1.0, 1.0, 0.0, 0.0, 0.0, 8.2015, -1.0], [2.0...</td>\n",
       "    </tr>\n",
       "    <tr>\n",
       "      <th>3</th>\n",
       "      <td>Wearne_Hof</td>\n",
       "      <td>42.28deg</td>\n",
       "      <td>56.02deg</td>\n",
       "      <td>0.94</td>\n",
       "      <td>0.52 mm</td>\n",
       "      <td>1.7</td>\n",
       "      <td>2005-12-31</td>\n",
       "      <td>2006-08-01</td>\n",
       "      <td>old</td>\n",
       "      <td>in vivo</td>\n",
       "      <td>...</td>\n",
       "      <td>Dendrites, Soma, No Axon</td>\n",
       "      <td>layer 3</td>\n",
       "      <td>Local projecting</td>\n",
       "      <td>Reported (no values given)\\nNot corrected</td>\n",
       "      <td>945</td>\n",
       "      <td>4024.05 mm</td>\n",
       "      <td>6726.7 mm2</td>\n",
       "      <td>3277.52 mm3</td>\n",
       "      <td>http://neuromorpho.org/neuron_info.jsp?neuron_...</td>\n",
       "      <td>[[1.0, 1.0, 0.0, 0.0, 0.0, 7.3549, -1.0], [2.0...</td>\n",
       "    </tr>\n",
       "    <tr>\n",
       "      <th>4</th>\n",
       "      <td>Wearne_Hof</td>\n",
       "      <td>66.73deg</td>\n",
       "      <td>53deg</td>\n",
       "      <td>0.93</td>\n",
       "      <td>0.55 mm</td>\n",
       "      <td>1.84</td>\n",
       "      <td>2005-12-31</td>\n",
       "      <td>2006-08-01</td>\n",
       "      <td>old</td>\n",
       "      <td>in vivo</td>\n",
       "      <td>...</td>\n",
       "      <td>Dendrites, Soma, No Axon</td>\n",
       "      <td>layer 3</td>\n",
       "      <td>Local projecting</td>\n",
       "      <td>Reported (no values given)\\nNot corrected</td>\n",
       "      <td>1139</td>\n",
       "      <td>4596.43 mm</td>\n",
       "      <td>8240.97 mm2</td>\n",
       "      <td>5563.92 mm3</td>\n",
       "      <td>http://neuromorpho.org/neuron_info.jsp?neuron_...</td>\n",
       "      <td>[[1.0, 1.0, 0.0, 0.0, 0.0, 8.8974, -1.0], [2.0...</td>\n",
       "    </tr>\n",
       "  </tbody>\n",
       "</table>\n",
       "<p>5 rows × 59 columns</p>\n",
       "</div>"
      ],
      "text/plain": [
       "  Archive Name Average Bifurcation Angle Local  \\\n",
       "0   Wearne_Hof                        33.38deg   \n",
       "1   Wearne_Hof                        38.26deg   \n",
       "2   Wearne_Hof                        39.13deg   \n",
       "3   Wearne_Hof                        42.28deg   \n",
       "4   Wearne_Hof                        66.73deg   \n",
       "\n",
       "  Average Bifurcation Angle Remote Average Contraction Average Diameter  \\\n",
       "0                         50.46deg                0.93          0.54 mm   \n",
       "1                         45.91deg                0.93          0.54 mm   \n",
       "2                         55.73deg                0.92          0.51 mm   \n",
       "3                         56.02deg                0.94          0.52 mm   \n",
       "4                            53deg                0.93          0.55 mm   \n",
       "\n",
       "  Average Rall's Ratio Date of Deposition Date of Upload Development  \\\n",
       "0                 1.53         2005-12-31     2006-08-01         old   \n",
       "1                 1.49         2005-12-31     2006-08-01         old   \n",
       "2                 1.58         2005-12-31     2006-08-01         old   \n",
       "3                  1.7         2005-12-31     2006-08-01         old   \n",
       "4                 1.84         2005-12-31     2006-08-01         old   \n",
       "\n",
       "  Experiment Protocol                        ...                          \\\n",
       "0             in vivo                        ...                           \n",
       "1             in vivo                        ...                           \n",
       "2             in vivo                        ...                           \n",
       "3             in vivo                        ...                           \n",
       "4             in vivo                        ...                           \n",
       "\n",
       "         Structural Domains Tertiary Brain Region Tertiary Cell Class  \\\n",
       "0  Dendrites, Soma, No Axon               layer 3    Local projecting   \n",
       "1  Dendrites, Soma, No Axon               layer 3    Local projecting   \n",
       "2  Dendrites, Soma, No Axon               layer 3    Local projecting   \n",
       "3  Dendrites, Soma, No Axon               layer 3    Local projecting   \n",
       "4  Dendrites, Soma, No Axon               layer 3    Local projecting   \n",
       "\n",
       "                            Tissue Shrinkage Total Fragmentation Total Length  \\\n",
       "0  Reported (no values given)\\nNot corrected                1274    4911.5 mm   \n",
       "1  Reported (no values given)\\nNot corrected                1033   4144.17 mm   \n",
       "2  Reported (no values given)\\nNot corrected                1407    6222.5 mm   \n",
       "3  Reported (no values given)\\nNot corrected                 945   4024.05 mm   \n",
       "4  Reported (no values given)\\nNot corrected                1139   4596.43 mm   \n",
       "\n",
       "  Total Surface Total Volume  \\\n",
       "0   8842.91 mm2  4725.89 mm3   \n",
       "1   7257.42 mm2  3468.16 mm3   \n",
       "2   10130.4 mm2  4742.74 mm3   \n",
       "3    6726.7 mm2  3277.52 mm3   \n",
       "4   8240.97 mm2  5563.92 mm3   \n",
       "\n",
       "                                 link in neuromorpho  \\\n",
       "0  http://neuromorpho.org/neuron_info.jsp?neuron_...   \n",
       "1  http://neuromorpho.org/neuron_info.jsp?neuron_...   \n",
       "2  http://neuromorpho.org/neuron_info.jsp?neuron_...   \n",
       "3  http://neuromorpho.org/neuron_info.jsp?neuron_...   \n",
       "4  http://neuromorpho.org/neuron_info.jsp?neuron_...   \n",
       "\n",
       "                                                 swc  \n",
       "0  [[1.0, 1.0, 0.0, 0.0, 0.0, 8.1498, -1.0], [2.0...  \n",
       "1  [[1.0, 1.0, 0.0, 0.0, 0.0, 7.3084, -1.0], [2.0...  \n",
       "2  [[1.0, 1.0, 0.0, 0.0, 0.0, 8.2015, -1.0], [2.0...  \n",
       "3  [[1.0, 1.0, 0.0, 0.0, 0.0, 7.3549, -1.0], [2.0...  \n",
       "4  [[1.0, 1.0, 0.0, 0.0, 0.0, 8.8974, -1.0], [2.0...  \n",
       "\n",
       "[5 rows x 59 columns]"
      ]
     },
     "execution_count": 19,
     "metadata": {},
     "output_type": "execute_result"
    }
   ],
   "source": [
    "# GET REAL NEURON DATA\n",
    "import pandas as pd\n",
    "neurons = pd.read_pickle(\"/Users/anirudhnatarajan/Documents/UPenn/neuronData/neurons.csv\")\n",
    "neurons.head()"
   ]
  },
  {
   "cell_type": "code",
   "execution_count": 83,
   "metadata": {
    "scrolled": true
   },
   "outputs": [
    {
     "name": "stderr",
     "output_type": "stream",
     "text": [
      "/Users/anirudhnatarajan/Documents/UPenn/McNeuron/McNeuron/Neuron.py:957: RuntimeWarning: divide by zero encountered in double_scalars\n",
      "  e[i] = np.arctan(h/b)\n",
      "/Users/anirudhnatarajan/Documents/UPenn/McNeuron/McNeuron/Neuron.py:968: RuntimeWarning: divide by zero encountered in double_scalars\n",
      "  t[i] = np.arctan(h/b)\n",
      "/Users/anirudhnatarajan/Documents/UPenn/McNeuron/McNeuron/Neuron.py:968: RuntimeWarning: invalid value encountered in double_scalars\n",
      "  t[i] = np.arctan(h/b)\n",
      "/Users/anirudhnatarajan/Documents/UPenn/McNeuron/McNeuron/Neuron.py:974: RuntimeWarning: invalid value encountered in absolute\n",
      "  a[i] = max([np.abs(tiltLocal[2*i] + tiltLocal[2*i+1]),np.abs(tiltLocal[2*i] - tiltLocal[2*i+1])])\n",
      "/Users/anirudhnatarajan/anaconda/lib/python3.6/site-packages/numpy/lib/function_base.py:747: RuntimeWarning: invalid value encountered in greater_equal\n",
      "  keep = (tmp_a >= mn)\n",
      "/Users/anirudhnatarajan/anaconda/lib/python3.6/site-packages/numpy/lib/function_base.py:748: RuntimeWarning: invalid value encountered in less_equal\n",
      "  keep &= (tmp_a <= mx)\n",
      "/Users/anirudhnatarajan/Documents/UPenn/McNeuron/McNeuron/Neuron.py:1004: RuntimeWarning: invalid value encountered in true_divide\n",
      "  n = np.append(n, (e/sum(e)))\n",
      "/Users/anirudhnatarajan/Documents/UPenn/McNeuron/McNeuron/Neuron.py:1005: RuntimeWarning: invalid value encountered in true_divide\n",
      "  n = np.append(n, (t/sum(t)))\n",
      "/Users/anirudhnatarajan/Documents/UPenn/McNeuron/McNeuron/Neuron.py:1006: RuntimeWarning: invalid value encountered in true_divide\n",
      "  n = np.append(n, (a/sum(a)))\n"
     ]
    },
    {
     "name": "stdout",
     "output_type": "stream",
     "text": [
      "half\n"
     ]
    }
   ],
   "source": [
    "indC = np.where(neurons['Experimental Condition']=='Control')[0]\n",
    "trainR = [0] * size\n",
    "testR = [0] * size\n",
    "randR = np.linspace(0,len(indC)-1,len(indC))\n",
    "for i in range(0,len(trainR)) :\n",
    "    r = randint(0,len(randR)-1)\n",
    "    n = McNeuron.Neuron(neurons['swc'][indC[int(randR[r])]])\n",
    "    randR = np.delete(randR,r)\n",
    "    n.l_measure_features()\n",
    "    trainR[i] = n.getNeuronVector()\n",
    "print('half')\n",
    "for i in range(0,len(testR)) :\n",
    "    r = randint(0,len(randR)-1)\n",
    "    n = McNeuron.Neuron(neurons['swc'][indC[int(randR[r])]])\n",
    "    randR = np.delete(randR,r)\n",
    "    n.l_measure_features()\n",
    "    testR[i] = n.getNeuronVector()"
   ]
  },
  {
   "cell_type": "code",
   "execution_count": 85,
   "metadata": {},
   "outputs": [],
   "source": [
    "for i in range(0,len(trainR)) :\n",
    "    if(np.isnan(trainR[i][50])) :\n",
    "        r = randint(0,len(randR)-1)\n",
    "        neuron = McNeuron.Neuron(neurons['swc'][indC[int(randR[r])]])\n",
    "        randR = np.delete(randR,r)\n",
    "        neuron.l_measure_features()\n",
    "        trainR[i] = neuron.getNeuronVector()\n",
    "        if(np.isnan(trainR[i][50])) :\n",
    "            print('sad')\n",
    "        else :\n",
    "            print('good')\n",
    "for i in range(0,len(testR)) :\n",
    "    if(np.isnan(testR[i][50])) :\n",
    "        r = randint(0,len(randR)-1)\n",
    "        neuron = McNeuron.Neuron(neurons['swc'][indC[int(randR[r])]])\n",
    "        randR = np.delete(randR,r)\n",
    "        neuron.l_measure_features()\n",
    "        testR[i] = neuron.getNeuronVector()\n",
    "        if(np.isnan(testR[i][50])) :\n",
    "            print('sad')\n",
    "        else :\n",
    "            print('good')"
   ]
  },
  {
   "cell_type": "code",
   "execution_count": 86,
   "metadata": {
    "collapsed": true
   },
   "outputs": [],
   "source": [
    "trainG = np.vstack(trainG)\n",
    "trainR = np.vstack(trainR)\n",
    "testG = np.vstack(testG)\n",
    "testR = np.vstack(testR)\n",
    "\n",
    "train = np.concatenate((trainG,trainR))\n",
    "test = np.concatenate((testG,testR))\n",
    "y = np.concatenate(([0] * size,[1] * size))"
   ]
  },
  {
   "cell_type": "code",
   "execution_count": 102,
   "metadata": {
    "collapsed": true
   },
   "outputs": [],
   "source": [
    "def subsetData(arr,q):\n",
    "    x = [0] * size\n",
    "    for i in range(0,size) :\n",
    "        x[i] = arr[i][q]\n",
    "    return x"
   ]
  },
  {
   "cell_type": "code",
   "execution_count": 95,
   "metadata": {},
   "outputs": [],
   "source": [
    "a = subsetData(trainG)\n",
    "b = subsetData(trainR)\n",
    "c = subsetData(testG)\n",
    "d = subsetData(testR)\n",
    "\n",
    "a = np.vstack(a)\n",
    "b = np.vstack(b)\n",
    "c = np.vstack(c)\n",
    "d = np.vstack(d)\n",
    "\n",
    "train = np.concatenate((a,b))\n",
    "test = np.concatenate((c,d))\n",
    "y = np.concatenate(([0] * size,[1] * size))"
   ]
  },
  {
   "cell_type": "code",
   "execution_count": 103,
   "metadata": {},
   "outputs": [
    {
     "name": "stdout",
     "output_type": "stream",
     "text": [
      "0.97 0\n",
      "0.98 1\n",
      "0.96 2\n",
      "0.96 3\n",
      "0.98 4\n",
      "0.52 5\n",
      "0.76 6\n",
      "1.0 7\n",
      "1.0 8\n",
      "0.98 9\n",
      "0.97 10\n",
      "0.95 11\n",
      "0.98 12\n",
      "0.99 13\n",
      "0.97 14\n",
      "0.98 15\n",
      "0.76 16\n",
      "1.0 17\n",
      "1.0 18\n",
      "1.0 19\n",
      "1.0 20\n",
      "1.0 21\n"
     ]
    }
   ],
   "source": [
    "for q in range(0,22) :\n",
    "    a = subsetData(trainG,q)\n",
    "    b = subsetData(trainR,q)\n",
    "    c = subsetData(testG,q)\n",
    "    d = subsetData(testR,q)\n",
    "    \n",
    "    train = np.expand_dims(np.concatenate((a,b)),axis=1)\n",
    "    test = np.expand_dims(np.concatenate((c,d)),axis=1)\n",
    "    \n",
    "    y = np.concatenate(([0] * size,[1] * size))\n",
    "    clf = BaggingClassifier(RandomForestClassifier())\n",
    "    clf.fit(train,y)\n",
    "    z = clf.predict(test)\n",
    "\n",
    "    sum = 0\n",
    "    parts = 2\n",
    "    for i in range (0,parts) :\n",
    "        for j in range (0,size) :\n",
    "            if z[j + size*i] == i :\n",
    "                sum += 1\n",
    "    accuracy = sum / len(z)\n",
    "    print(accuracy , q)"
   ]
  },
  {
   "cell_type": "code",
   "execution_count": 67,
   "metadata": {
    "collapsed": true
   },
   "outputs": [],
   "source": [
    "from sklearn import svm\n",
    "from sklearn.ensemble import RandomForestClassifier\n",
    "from sklearn.ensemble import ExtraTreesClassifier\n",
    "from sklearn.tree import DecisionTreeClassifier\n",
    "from sklearn.ensemble import GradientBoostingClassifier\n",
    "from sklearn.ensemble import BaggingClassifier\n",
    "from sklearn import neighbors\n",
    "from sklearn.linear_model import SGDClassifier\n",
    "from sklearn.neural_network import MLPClassifier\n",
    "from sklearn.naive_bayes import GaussianNB\n",
    "from sklearn import linear_model"
   ]
  },
  {
   "cell_type": "code",
   "execution_count": 87,
   "metadata": {
    "collapsed": true
   },
   "outputs": [],
   "source": [
    "#clf = svm.SVC()\n",
    "#clf = RandomForestClassifier()\n",
    "#clf = ExtraTreesClassifier()\n",
    "#clf = DecisionTreeClassifier()\n",
    "#clf = GradientBoostingClassifier()\n",
    "#clf = BaggingClassifier()\n",
    "clf = BaggingClassifier(RandomForestClassifier())\n",
    "#clf = neighbors.KNeighborsClassifier()\n",
    "#clf = SGDClassifier()\n",
    "#clf = MLPClassifier()\n",
    "#clf = GaussianNB()\n",
    "#clf = linear_model.LinearRegression()"
   ]
  },
  {
   "cell_type": "code",
   "execution_count": 96,
   "metadata": {},
   "outputs": [
    {
     "name": "stdout",
     "output_type": "stream",
     "text": [
      "100\n",
      "1.0\n"
     ]
    }
   ],
   "source": [
    "clf.fit(train,y)\n",
    "z = clf.predict(test)\n",
    "\n",
    "sum = 0\n",
    "parts = 2\n",
    "for i in range (0,parts) :\n",
    "    for j in range (0,size) :\n",
    "        if z[j + size*i] == i :\n",
    "            sum += 1\n",
    "accuracy = sum / len(z)\n",
    "print(sum)\n",
    "print(accuracy)"
   ]
  },
  {
   "cell_type": "code",
   "execution_count": 97,
   "metadata": {},
   "outputs": [
    {
     "data": {
      "image/png": "[encoded data removed]",
      "text/plain": [
       "<matplotlib.figure.Figure at 0x195680588>"
      ]
     },
     "metadata": {},
     "output_type": "display_data"
    },
    {
     "name": "stdout",
     "output_type": "stream",
     "text": [
      "50\n",
      "50\n"
     ]
    }
   ],
   "source": [
    "plt.hist(z)\n",
    "plt.show()\n",
    "print(len(np.where(z == 0)[0]))\n",
    "print(len(np.where(z == 1)[0]))"
   ]
  },
  {
   "cell_type": "code",
   "execution_count": 98,
   "metadata": {
    "scrolled": true
   },
   "outputs": [
    {
     "name": "stdout",
     "output_type": "stream",
     "text": [
      "[t-SNE] Computing 91 nearest neighbors...\n",
      "[t-SNE] Indexed 100 samples in 0.000s...\n",
      "[t-SNE] Computed neighbors for 100 samples in 0.003s...\n",
      "[t-SNE] Computed conditional probabilities for sample 100 / 100\n",
      "[t-SNE] Mean sigma: 186.595977\n",
      "[t-SNE] Computed conditional probabilities in 0.008s\n",
      "[t-SNE] Iteration 50: error = 52.9508095, gradient norm = 0.4348220 (50 iterations in 0.105s)\n",
      "[t-SNE] Iteration 100: error = 49.5060997, gradient norm = 0.5330791 (50 iterations in 0.080s)\n",
      "[t-SNE] Iteration 150: error = 52.4648361, gradient norm = 0.4649397 (50 iterations in 0.084s)\n",
      "[t-SNE] Iteration 200: error = 49.4625969, gradient norm = 0.5120457 (50 iterations in 0.081s)\n",
      "[t-SNE] Iteration 250: error = 51.4662781, gradient norm = 0.5549257 (50 iterations in 0.083s)\n",
      "[t-SNE] KL divergence after 250 iterations with early exaggeration: 51.466278\n",
      "[t-SNE] Iteration 300: error = 0.2593349, gradient norm = 0.0117783 (50 iterations in 0.081s)\n",
      "[t-SNE] Iteration 350: error = 0.1700251, gradient norm = 0.0172247 (50 iterations in 0.087s)\n",
      "[t-SNE] Iteration 400: error = 0.0901081, gradient norm = 0.0050239 (50 iterations in 0.078s)\n",
      "[t-SNE] Iteration 450: error = 0.0780421, gradient norm = 0.0008315 (50 iterations in 0.111s)\n",
      "[t-SNE] Iteration 500: error = 0.0774536, gradient norm = 0.0005035 (50 iterations in 0.095s)\n",
      "[t-SNE] Iteration 550: error = 0.0782172, gradient norm = 0.0005627 (50 iterations in 0.075s)\n",
      "[t-SNE] Iteration 600: error = 0.0780183, gradient norm = 0.0005177 (50 iterations in 0.081s)\n",
      "[t-SNE] Iteration 650: error = 0.0780734, gradient norm = 0.0005787 (50 iterations in 0.075s)\n",
      "[t-SNE] Iteration 700: error = 0.0780005, gradient norm = 0.0004960 (50 iterations in 0.075s)\n",
      "[t-SNE] Iteration 750: error = 0.0777818, gradient norm = 0.0004995 (50 iterations in 0.074s)\n",
      "[t-SNE] Iteration 800: error = 0.0779355, gradient norm = 0.0003938 (50 iterations in 0.087s)\n",
      "[t-SNE] Iteration 850: error = 0.0777848, gradient norm = 0.0007984 (50 iterations in 0.076s)\n",
      "[t-SNE] Iteration 850: did not make any progress during the last 300 episodes. Finished.\n",
      "[t-SNE] Error after 850 iterations: 0.077785\n"
     ]
    }
   ],
   "source": [
    "from sklearn.manifold import TSNE\n",
    "X_embedded = TSNE(n_components=2, verbose=2).fit_transform(train)"
   ]
  },
  {
   "cell_type": "code",
   "execution_count": 99,
   "metadata": {},
   "outputs": [
    {
     "data": {
      "image/png": "[encoded data removed]",
      "text/plain": [
       "<matplotlib.figure.Figure at 0x1992dfa58>"
      ]
     },
     "metadata": {},
     "output_type": "display_data"
    }
   ],
   "source": [
    "plt.scatter(X_embedded[:,0],X_embedded[:,1], c = y, s=5)\n",
    "plt.show()"
   ]
  },
  {
   "cell_type": "code",
   "execution_count": 100,
   "metadata": {},
   "outputs": [
    {
     "data": {
      "image/png": "[encoded data removed]",
      "text/plain": [
       "<matplotlib.figure.Figure at 0x195676978>"
      ]
     },
     "metadata": {},
     "output_type": "display_data"
    }
   ],
   "source": [
    "plt.hist(X_embedded[:,0], normed=True, alpha = 0.25)\n",
    "plt.hist(X_embedded[:,1], normed=True, alpha = 0.25)\n",
    "plt.show()"
   ]
  },
  {
   "cell_type": "code",
   "execution_count": null,
   "metadata": {
    "collapsed": true
   },
   "outputs": [],
   "source": []
  }
 ],
 "metadata": {
  "kernelspec": {
   "display_name": "Python 3",
   "language": "python",
   "name": "python3"
  },
  "language_info": {
   "codemirror_mode": {
    "name": "ipython",
    "version": 3
   },
   "file_extension": ".py",
   "mimetype": "text/x-python",
   "name": "python",
   "nbconvert_exporter": "python",
   "pygments_lexer": "ipython3",
   "version": "3.6.2"
  }
 },
 "nbformat": 4,
 "nbformat_minor": 2
}
