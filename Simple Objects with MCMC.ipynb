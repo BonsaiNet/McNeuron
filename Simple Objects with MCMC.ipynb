{
 "cells": [
  {
   "cell_type": "markdown",
   "metadata": {},
   "source": [
    "#### Two-segments model"
   ]
  },
  {
   "cell_type": "code",
   "execution_count": null,
   "metadata": {
    "collapsed": false
   },
   "outputs": [],
   "source": [
    "import numpy as np\n",
    "import McNeuron\n",
    "import data_transforms\n",
    "\n",
    "from keras.models import Sequential\n",
    "from keras.layers.core import Dense, Reshape\n",
    "from keras.layers.recurrent import LSTM\n",
    "\n",
    "import matplotlib.pyplot as plt\n",
    "from copy import deepcopy\n",
    "import os\n",
    "\n",
    "from numpy import linalg as LA\n",
    "import data_transforms\n",
    "%matplotlib inline\n",
    "from keras import backend as K\n",
    "\n",
    "l = 50000\n",
    "subsampling_numbers = 20\n",
    "morph = np.zeros([l, subsampling_numbers - 1])\n",
    "geo = np.zeros([l, subsampling_numbers - 1, 3])\n",
    "data = dict()\n",
    "for i in range(l):\n",
    "    k = np.floor((subsampling_numbers-2)*np.random.rand())\n",
    "    k = np.array(k, dtype=int)\n",
    "    k = 4\n",
    "    n = np.floor(k*np.random.rand())\n",
    "    n = np.array(n, dtype=int)\n",
    "    par = np.append(np.arange(0,k+1),n)\n",
    "    par = np.append(par,np.arange(k+2,subsampling_numbers-1))\n",
    "    par = np.append(-1, par)\n",
    "\n",
    "    #morph[i, :] = data_transforms.encode_prufer(par.tolist())\n",
    "    morph[i, :] = par[1:]\n",
    "    geo[i, 0, 0:2] = np.random.rand(2)\n",
    "    for j in range(1,k+1):\n",
    "        #geo[i, j, 0:2] =  geo[i, j-1, 0:2] + np.random.rand(2)\n",
    "        geo[i, j, 0:2] = np.random.rand(2)\n",
    "    a = np.random.rand(2)\n",
    "    a[0] = -a[0]\n",
    "    #geo[i ,k+1 ,0:2] = geo[i, n-1, 0:2] + a\n",
    "    geo[i ,k+1 ,0:2] = a\n",
    "    \n",
    "    for j in range(k+2,subsampling_numbers-1):\n",
    "        a = np.random.rand(2)\n",
    "        a[0] = -a[0]\n",
    "        #geo[i, j, 0:2] = geo[i, j-1, 0:2] + a\n",
    "        geo[i, j, 0:2] = a\n",
    "\n",
    "data['morphology'] = dict()\n",
    "data['morphology']['n'+str(subsampling_numbers)] = morph\n",
    "data['geometry'] = dict()\n",
    "data['geometry']['n'+str(subsampling_numbers)] = geo"
   ]
  },
  {
   "cell_type": "markdown",
   "metadata": {},
   "source": [
    "# Visulazing"
   ]
  },
  {
   "cell_type": "code",
   "execution_count": null,
   "metadata": {
    "collapsed": false
   },
   "outputs": [],
   "source": [
    "M = np.zeros([subsampling_numbers-1,7])\n",
    "M[1:,6] = morph[0,:-1]+1\n",
    "M[0,6] = -1\n",
    "M[np.ix_(range(1,subsampling_numbers-1),range(2,5))] = np.squeeze(geo[0,:-1,:])\n",
    "n = McNeuron.Neuron(file_format = 'Matrix of swc', input_file = M)\n",
    "n.distance_from_parent = np.append(0,geo)\n",
    "n.set_connection()\n",
    "x = n.connection\n",
    "x[np.isnan(x)] = 0\n",
    "#n.location = np.dot(x, np.append([[0,0,0]],np.squeeze(geo), axis = 0)).T\n",
    "n.location = np.dot(x, np.squeeze(geo)).T\n",
    "McNeuron.visualize.plot_2D(n, save=\"e.eps\")\n",
    "#n.fit()\n",
    "#McNeuron.visualize.plot_dedrite_tree(n)\n",
    "#print n.parent_index\n",
    "#print par\n",
    "#print n.location"
   ]
  },
  {
   "cell_type": "markdown",
   "metadata": {},
   "source": [
    "#### random_attached Model"
   ]
  },
  {
   "cell_type": "code",
   "execution_count": null,
   "metadata": {
    "collapsed": false
   },
   "outputs": [],
   "source": [
    "def random_unitary_basis( kappa):\n",
    "    Ax1 = random_2d_rotation_in_3d('x', kappa)\n",
    "    Ay1 = random_2d_rotation_in_3d('y', kappa)\n",
    "    Az1 = random_2d_rotation_in_3d('z', kappa)\n",
    "    Ax2 = random_2d_rotation_in_3d('x', kappa)\n",
    "    Ay1 = random_2d_rotation_in_3d('y', kappa)\n",
    "    Az1 = random_2d_rotation_in_3d('z', kappa)\n",
    "    A = np.dot(np.dot(Ax1,Ay1),Az1)\n",
    "    B = np.dot(np.dot(Az1,Ay1),Ax1)\n",
    "    return np.dot(A,B)\n",
    "\n",
    "def random_2d_rotation_in_3d(axis, kappa):\n",
    "    theta = np.random.vonmises(0, kappa, 1)\n",
    "    A = np.eye(3)\n",
    "    if axis is 'z':\n",
    "        A[0,0] = np.cos(theta)\n",
    "        A[1,0] = np.sin(theta)\n",
    "        A[0,1] = - np.sin(theta)\n",
    "        A[1,1] = np.cos(theta)\n",
    "        return A\n",
    "    if axis is 'y':\n",
    "        A[0,0] = np.cos(theta)\n",
    "        A[2,0] = np.sin(theta)\n",
    "        A[0,2] = - np.sin(theta)\n",
    "        A[2,2] = np.cos(theta)\n",
    "        return A\n",
    "    if axis is 'x':\n",
    "        A[1,1] = np.cos(theta)\n",
    "        A[2,1] = np.sin(theta)\n",
    "        A[1,2] = - np.sin(theta)\n",
    "        A[2,2] = np.cos(theta)\n",
    "        return A\n",
    "    \n",
    "l = 1\n",
    "subsampling_numbers = 20\n",
    "morph = np.zeros([l, subsampling_numbers])\n",
    "geo = np.zeros([l, subsampling_numbers - 1, 3])\n",
    "data = dict()\n",
    "for i in range(l):\n",
    "    par \n",
    "    b = 3\n",
    "    B = np.array([2])\n",
    "    ind = 0\n",
    "    leaves = np.array([0])\n",
    "    while(ind<subsampling_numbers-1):\n",
    "        index = int(np.floor(np.random.rand()*len(leaves)))\n",
    "        a = leaves[index]\n",
    "        if(ind>0):\n",
    "            (parent,) = np.where(morph[i, :] == morph[i, a])\n",
    "            parent = parent[0]\n",
    "        else:\n",
    "            parent = 0\n",
    "        # if we want to make a branch\n",
    "        if(np.any(B==ind)):\n",
    "            s = geo[i, a,:]\n",
    "            pert = 0.1*np.random.randn(3)\n",
    "            l_par = geo[i,parent,:] - geo[i,a,:]\n",
    "            geo[i,ind,:] = s + np.dot(random_unitary_basis(20), l_par) + pert\n",
    "            geo[i,ind+1,:] = s + np.dot(random_unitary_basis(20), l_par) - pert\n",
    "            leaves = np.append(leaves, ind)\n",
    "            leaves = np.append(leaves, ind+1)\n",
    "            leaves = np.delete(leaves, index)\n",
    "            morph[i, ind] = a\n",
    "            morph[i, ind+1] = a\n",
    "            ind = ind + 2\n",
    "            \n",
    "        # if we want to extend a segment   \n",
    "        else:\n",
    "            s = geo[i,a,:]\n",
    "            pert = 0.1*np.random.randn(1,3)\n",
    "            l_par = geo[i,parent,:] - geo[i,a,:]\n",
    "            geo[i,ind,:] = s + np.dot(random_unitary_basis(20), l_par) + pert\n",
    "            leaves = np.append(leaves, ind)\n",
    "            leaves = np.delete(leaves, index)\n",
    "            morph[i, ind] = a\n",
    "            ind = ind + 1\n",
    "            \n",
    "    #par = np.append(-1, par)\n",
    "    par[0] = -1\n",
    "\n",
    "data['morphology'] = dict()\n",
    "data['morphology']['n'+str(subsampling_numbers)] = morph[:,:-1]\n",
    "data['geometry'] = dict()\n",
    "data['geometry']['n'+str(subsampling_numbers)] = geo[:,:-1,:]"
   ]
  },
  {
   "cell_type": "code",
   "execution_count": null,
   "metadata": {
    "collapsed": false
   },
   "outputs": [],
   "source": [
    "random_unitary_basis(20)"
   ]
  },
  {
   "cell_type": "code",
   "execution_count": null,
   "metadata": {
    "collapsed": false
   },
   "outputs": [],
   "source": [
    "morph[0, :-1]"
   ]
  },
  {
   "cell_type": "code",
   "execution_count": null,
   "metadata": {
    "collapsed": false
   },
   "outputs": [],
   "source": [
    "M = np.zeros([subsampling_numbers-1,7])\n",
    "M[:,6] = morph[0,:-1]+1\n",
    "M[0,6] = -1\n",
    "M[np.ix_(range(1,subsampling_numbers-1),range(2,5))] = np.squeeze(geo[0,:-1,:])\n",
    "n = McNeuron.Neuron(file_format = 'Matrix of swc', input_file = M)\n",
    "#n.distance_from_parent = np.append(0,geo)\n",
    "n.set_connection()\n",
    "#x = n.connection\n",
    "#x[np.isnan(x)] = 0\n",
    "#n.location = np.dot(x, np.append([[0,0,0]],np.squeeze(geo), axis = 0)).T\n",
    "McNeuron.visualize.plot_2D(n)\n",
    "#n.fit()\n",
    "#McNeuron.visualize.plot_dedrite_tree(n)\n",
    "print n.parent_index\n",
    "#print par\n",
    "print n.location"
   ]
  },
  {
   "cell_type": "code",
   "execution_count": null,
   "metadata": {
    "collapsed": false
   },
   "outputs": [],
   "source": [
    "McNeuron.visualize.plot_dedrite_tree(n)"
   ]
  },
  {
   "cell_type": "code",
   "execution_count": null,
   "metadata": {
    "collapsed": false
   },
   "outputs": [],
   "source": [
    "n.parent_index"
   ]
  },
  {
   "cell_type": "code",
   "execution_count": null,
   "metadata": {
    "collapsed": false
   },
   "outputs": [],
   "source": [
    "print n.location.shape"
   ]
  },
  {
   "cell_type": "code",
   "execution_count": null,
   "metadata": {
    "collapsed": false
   },
   "outputs": [],
   "source": [
    "n.distance_from_parent = geo\n",
    "n.set_connection\n",
    "n.location = np.dot(n.connection, np.append([[0,0,0]],np.squeeze(geo), axis = 0))"
   ]
  },
  {
   "cell_type": "code",
   "execution_count": null,
   "metadata": {
    "collapsed": true
   },
   "outputs": [],
   "source": [
    "import pickle\n",
    "pickle.dump(data, open( \"synthetic_Two_segment_model_Different_directions_Parent_distance_n20_parent_id_loc=dis_parent_k4.p\", \"wb\" ))"
   ]
  },
  {
   "cell_type": "code",
   "execution_count": null,
   "metadata": {
    "collapsed": false
   },
   "outputs": [],
   "source": [
    "import data_transforms\n",
    "data_transforms.make_swc_from_prufer_and_locations(data)"
   ]
  },
  {
   "cell_type": "code",
   "execution_count": null,
   "metadata": {
    "collapsed": false
   },
   "outputs": [],
   "source": [
    "import plotly.plotly as py\n",
    "py.sign_in('RoozbehFarhoodi', '0ndQhPE4QGdQ39JBdFPg')\n",
    "import plotly.graph_objs as go\n",
    "\n",
    "import numpy as np\n",
    "\n",
    "x, y, z = np.random.multivariate_normal(np.array([0,0,0]), np.eye(3), 20).transpose()\n",
    "trace1 = go.Scatter3d(\n",
    "    x=x,\n",
    "    y=y,\n",
    "    z=z,\n",
    "    mode='markers',\n",
    "    marker=dict(\n",
    "        size=12,\n",
    "        line=dict(\n",
    "            color='rgba(217, 217, 217, 0.14)',\n",
    "            width=0.5\n",
    "        ),\n",
    "        opacity=0.8\n",
    "    )\n",
    ")\n",
    "\n",
    "x2, y2, z2 = np.random.multivariate_normal(np.array([0,0,0]), np.eye(3), 20).transpose()\n",
    "trace2 = go.Scatter3d(\n",
    "    x=x2,\n",
    "    y=y2,\n",
    "    z=z2,\n",
    "    mode='markers',\n",
    "    marker=dict(\n",
    "        color='rgb(127, 127, 127)',\n",
    "        size=12,\n",
    "        symbol='circle',\n",
    "        line=dict(\n",
    "            color='rgb(204, 204, 204)',\n",
    "            width=1\n",
    "        ),\n",
    "        opacity=0.9\n",
    "    )\n",
    ")\n",
    "data = [trace1, trace2]\n",
    "layout = go.Layout(\n",
    "    margin=dict(\n",
    "        l=0,\n",
    "        r=0,\n",
    "        b=0,\n",
    "        t=0\n",
    "    )\n",
    ")\n",
    "fig = go.Figure(data=data, layout=layout)\n",
    "py.iplot(fig, filename='simple-3d-scatter')"
   ]
  },
  {
   "cell_type": "code",
   "execution_count": null,
   "metadata": {
    "collapsed": true
   },
   "outputs": [],
   "source": []
  }
 ],
 "metadata": {
  "kernelspec": {
   "display_name": "Python 2",
   "language": "python",
   "name": "python2"
  },
  "language_info": {
   "codemirror_mode": {
    "name": "ipython",
    "version": 2
   },
   "file_extension": ".py",
   "mimetype": "text/x-python",
   "name": "python",
   "nbconvert_exporter": "python",
   "pygments_lexer": "ipython2",
   "version": "2.7.12"
  }
 },
 "nbformat": 4,
 "nbformat_minor": 0
}
