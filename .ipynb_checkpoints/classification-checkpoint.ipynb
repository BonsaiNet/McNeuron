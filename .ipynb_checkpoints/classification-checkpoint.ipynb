{
 "cells": [
  {
   "cell_type": "code",
   "execution_count": 543,
   "metadata": {
    "collapsed": true
   },
   "outputs": [],
   "source": [
    "import time\n",
    "import datetime\n",
    "import McNeuron\n",
    "from random import randint\n",
    "import numpy as np\n",
    "import matplotlib.pyplot as plt"
   ]
  },
  {
   "cell_type": "code",
   "execution_count": 479,
   "metadata": {},
   "outputs": [
    {
     "name": "stdout",
     "output_type": "stream",
     "text": [
      "17:02:47\n",
      "17:04:00\n"
     ]
    }
   ],
   "source": [
    "print(datetime.datetime.fromtimestamp(time.time()).strftime('%H:%M:%S'))\n",
    "import pandas as pd\n",
    "neurons = pd.read_pickle(\"/Users/anirudhnatarajan/Desktop/neuronData/neurons.csv\")\n",
    "f = time.time()\n",
    "print(datetime.datetime.fromtimestamp(time.time()).strftime('%H:%M:%S'))"
   ]
  },
  {
   "cell_type": "code",
   "execution_count": 506,
   "metadata": {},
   "outputs": [],
   "source": [
    "indC = np.where(neurons['Experimental Condition']=='Control')[0]"
   ]
  },
  {
   "cell_type": "code",
   "execution_count": 565,
   "metadata": {},
   "outputs": [],
   "source": [
    "indP = np.where(neurons['Primary Cell Class']=='principal cell')[0]\n",
    "indI = np.where(neurons['Primary Cell Class']=='interneuron')[0]\n",
    "\n",
    "swcP = [0] * 41497\n",
    "swcI = [0] * 16898\n",
    "#c = 0\n",
    "counter = 0\n",
    "for i in range(0,len(indP)) :\n",
    "    if np.any(indC[:] == indP[i]) :\n",
    "        swcP[i-counter] = neurons['swc'][indP[i]]\n",
    "    else :\n",
    "        counter += 1\n",
    "for i in range(0,len(indI)) :\n",
    "    if np.any(indC[:] == indI[i]) :\n",
    "        #c += 1\n",
    "        swcI[i-counter] = neurons['swc'][indI[i]]\n",
    "    else :\n",
    "        counter += 1"
   ]
  },
  {
   "cell_type": "code",
   "execution_count": 564,
   "metadata": {},
   "outputs": [
    {
     "data": {
      "text/plain": [
       "array([[  1.00000000e+00,   1.00000000e+00,   0.00000000e+00, ...,\n",
       "          0.00000000e+00,   4.80883000e+00,  -1.00000000e+00],\n",
       "       [  2.00000000e+00,   1.00000000e+00,  -2.10000000e+00, ...,\n",
       "          0.00000000e+00,   4.80883000e+00,   1.00000000e+00],\n",
       "       [  3.00000000e+00,   1.00000000e+00,   2.10000000e+00, ...,\n",
       "          0.00000000e+00,   4.80883000e+00,   1.00000000e+00],\n",
       "       ..., \n",
       "       [  7.72000000e+02,   2.00000000e+00,   7.30000000e+00, ...,\n",
       "          2.79000000e+00,   2.45000000e-01,   7.71000000e+02],\n",
       "       [  7.73000000e+02,   2.00000000e+00,   6.76000000e+00, ...,\n",
       "          4.34000000e+00,   2.45000000e-01,   7.72000000e+02],\n",
       "       [  7.74000000e+02,   2.00000000e+00,   6.40000000e+00, ...,\n",
       "          6.59000000e+00,   2.45000000e-01,   7.73000000e+02]])"
      ]
     },
     "execution_count": 564,
     "metadata": {},
     "output_type": "execute_result"
    }
   ],
   "source": [
    "swcI[10760]"
   ]
  },
  {
   "cell_type": "code",
   "execution_count": 577,
   "metadata": {},
   "outputs": [],
   "source": [
    "def getVectors(swc, size) :\n",
    "    n = [0] * size\n",
    "    print(datetime.datetime.fromtimestamp(time.time()).strftime('%H:%M:%S'))\n",
    "    for i in range (0,size) :\n",
    "        r = randint(0,len(swc)-1)\n",
    "        neuron = McNeuron.Neuron(swc[r])\n",
    "        neuron.l_measure_features()\n",
    "        n[i] = neuron.getNeuronVector()\n",
    "        if i%100==0 :\n",
    "            print(i)\n",
    "    print(datetime.datetime.fromtimestamp(time.time()).strftime('%H:%M:%S'))\n",
    "    print('done')\n",
    "    return n"
   ]
  },
  {
   "cell_type": "code",
   "execution_count": 573,
   "metadata": {
    "collapsed": true
   },
   "outputs": [],
   "source": [
    "#trainP,trainI,testP,testI"
   ]
  },
  {
   "cell_type": "code",
   "execution_count": 578,
   "metadata": {
    "scrolled": true
   },
   "outputs": [
    {
     "name": "stdout",
     "output_type": "stream",
     "text": [
      "17:41:52\n",
      "0\n"
     ]
    },
    {
     "name": "stderr",
     "output_type": "stream",
     "text": [
      "/Users/anirudhnatarajan/Documents/UPenn/McNeuron/McNeuron/Neuron.py:957: RuntimeWarning: divide by zero encountered in double_scalars\n",
      "  e[i] = np.arctan(h/b)\n",
      "/Users/anirudhnatarajan/Documents/UPenn/McNeuron/McNeuron/Neuron.py:968: RuntimeWarning: divide by zero encountered in double_scalars\n",
      "  t[i] = np.arctan(h/b)\n",
      "/Users/anirudhnatarajan/Documents/UPenn/McNeuron/McNeuron/Neuron.py:968: RuntimeWarning: invalid value encountered in double_scalars\n",
      "  t[i] = np.arctan(h/b)\n",
      "/Users/anirudhnatarajan/Documents/UPenn/McNeuron/McNeuron/Neuron.py:974: RuntimeWarning: invalid value encountered in absolute\n",
      "  a[i] = max([np.abs(tiltLocal[2*i] + tiltLocal[2*i+1]),np.abs(tiltLocal[2*i] - tiltLocal[2*i+1])])\n",
      "/Users/anirudhnatarajan/anaconda/lib/python3.6/site-packages/numpy/lib/function_base.py:747: RuntimeWarning: invalid value encountered in greater_equal\n",
      "  keep = (tmp_a >= mn)\n",
      "/Users/anirudhnatarajan/anaconda/lib/python3.6/site-packages/numpy/lib/function_base.py:748: RuntimeWarning: invalid value encountered in less_equal\n",
      "  keep &= (tmp_a <= mx)\n"
     ]
    },
    {
     "name": "stdout",
     "output_type": "stream",
     "text": [
      "10\n",
      "20\n"
     ]
    },
    {
     "name": "stderr",
     "output_type": "stream",
     "text": [
      "/Users/anirudhnatarajan/Documents/UPenn/McNeuron/McNeuron/Neuron.py:1004: RuntimeWarning: invalid value encountered in true_divide\n",
      "  n = np.append(n, (e/sum(e)))\n",
      "/Users/anirudhnatarajan/Documents/UPenn/McNeuron/McNeuron/Neuron.py:1005: RuntimeWarning: invalid value encountered in true_divide\n",
      "  n = np.append(n, (t/sum(t)))\n",
      "/Users/anirudhnatarajan/Documents/UPenn/McNeuron/McNeuron/Neuron.py:1006: RuntimeWarning: invalid value encountered in true_divide\n",
      "  n = np.append(n, (a/sum(a)))\n"
     ]
    },
    {
     "name": "stdout",
     "output_type": "stream",
     "text": [
      "30\n",
      "40\n",
      "50\n",
      "60\n",
      "70\n",
      "80\n",
      "90\n",
      "17:42:00\n",
      "done\n",
      "17:42:00\n",
      "0\n",
      "10\n",
      "20\n",
      "30\n",
      "40\n",
      "50\n",
      "60\n",
      "70\n",
      "80\n",
      "90\n",
      "17:42:15\n",
      "done\n",
      "17:42:15\n",
      "0\n",
      "10\n",
      "20\n",
      "30\n",
      "40\n",
      "50\n",
      "60\n",
      "70\n",
      "80\n",
      "90\n",
      "17:42:25\n",
      "done\n",
      "17:42:25\n",
      "0\n",
      "10\n",
      "20\n",
      "30\n",
      "40\n",
      "50\n",
      "60\n",
      "70\n",
      "80\n",
      "90\n",
      "17:42:43\n",
      "done\n"
     ]
    }
   ],
   "source": [
    "size = 10000\n",
    "trainP = getVectors(swcP, size)\n",
    "trainI = getVectors(swcI, size)\n",
    "testP = getVectors(swcP, size)\n",
    "testI = getVectors(swcI, size)"
   ]
  },
  {
   "cell_type": "code",
   "execution_count": 586,
   "metadata": {},
   "outputs": [
    {
     "name": "stdout",
     "output_type": "stream",
     "text": [
      "good\n",
      "good\n"
     ]
    },
    {
     "name": "stderr",
     "output_type": "stream",
     "text": [
      "/Users/anirudhnatarajan/Documents/UPenn/McNeuron/McNeuron/Neuron.py:968: RuntimeWarning: divide by zero encountered in double_scalars\n",
      "  t[i] = np.arctan(h/b)\n"
     ]
    }
   ],
   "source": [
    "#IMPORTANT\n",
    "for i in range(0,len(testP)):\n",
    "    if(np.isnan(testP[i][50])):\n",
    "        r = randint(0,len(swcP)-1)\n",
    "        neuron = McNeuron.Neuron(swcP[r])\n",
    "        neuron.l_measure_features()\n",
    "        testP[i] = neuron.getNeuronVector()\n",
    "        if(np.isnan(testP[i][50])) :\n",
    "            print('sad')\n",
    "        else :\n",
    "            print('good')"
   ]
  },
  {
   "cell_type": "code",
   "execution_count": 591,
   "metadata": {
    "collapsed": true
   },
   "outputs": [],
   "source": [
    "trainP = np.vstack(trainP)\n",
    "trainI = np.vstack(trainI)\n",
    "testP = np.vstack(testP)\n",
    "testI = np.vstack(testI)\n",
    "\n",
    "train = np.concatenate((trainP,trainI))\n",
    "test = np.concatenate((testP,testI))\n",
    "y = np.concatenate(([0] * size,[1] * size))"
   ]
  },
  {
   "cell_type": "code",
   "execution_count": 592,
   "metadata": {
    "collapsed": true
   },
   "outputs": [],
   "source": [
    "from sklearn import svm\n",
    "from sklearn import linear_model\n",
    "from sklearn.ensemble import RandomForestClassifier\n",
    "from sklearn.ensemble import ExtraTreesClassifier\n",
    "from sklearn.tree import DecisionTreeClassifier\n",
    "from sklearn.ensemble import GradientBoostingClassifier\n",
    "from sklearn.ensemble import BaggingClassifier\n",
    "from sklearn.neighbors import NearestNeighbors\n",
    "from sklearn.linear_model import SGDClassifier\n",
    "from sklearn.neural_network import MLPClassifier\n",
    "from sklearn.naive_bayes import GaussianNB"
   ]
  },
  {
   "cell_type": "code",
   "execution_count": 605,
   "metadata": {},
   "outputs": [],
   "source": [
    "#clf = svm.SVC()\n",
    "clf = RandomForestClassifier()\n",
    "#clf = ExtraTreesClassifier()\n",
    "#clf = DecisionTreeClassifier()\n",
    "#clf = GradientBoostingClassifier()\n",
    "#clf = BaggingClassifier(RandomForestClassifier())\n",
    "#clf = KNeighborsClassifier()\n",
    "#clf = SGDClassifier()\n",
    "#clf = MLPClassifier()\n",
    "#clf = GaussianNB()\n",
    "#clf = linear_model.LinearRegression()"
   ]
  },
  {
   "cell_type": "code",
   "execution_count": 617,
   "metadata": {},
   "outputs": [
    {
     "name": "stdout",
     "output_type": "stream",
     "text": [
      "0.6\n"
     ]
    }
   ],
   "source": [
    "clf.fit(train,y)\n",
    "z = clf.predict(test)\n",
    "\n",
    "sum = 0\n",
    "for i in range(0,len(z)) :\n",
    "    if (i<size) :\n",
    "        if (z[i]==0) :\n",
    "            sum = sum + 1\n",
    "    elif (z[i]==1):\n",
    "        sum = sum + 1\n",
    "accuracy = sum / len(z)\n",
    "print(accuracy)"
   ]
  },
  {
   "cell_type": "code",
   "execution_count": 618,
   "metadata": {},
   "outputs": [
    {
     "data": {
      "image/png": "[encoded data removed]",
      "text/plain": [
       "<matplotlib.figure.Figure at 0x2f6bbae80>"
      ]
     },
     "metadata": {},
     "output_type": "display_data"
    }
   ],
   "source": [
    "plt.hist(z)\n",
    "plt.show()"
   ]
  },
  {
   "cell_type": "code",
   "execution_count": 445,
   "metadata": {},
   "outputs": [
    {
     "name": "stderr",
     "output_type": "stream",
     "text": [
      "/Users/anirudhnatarajan/Documents/UPenn/McNeuron/McNeuron/Neuron.py:968: RuntimeWarning: divide by zero encountered in double_scalars\n",
      "  t[i] = np.arctan(h/b)\n"
     ]
    },
    {
     "data": {
      "text/plain": [
       "array([0, 1])"
      ]
     },
     "execution_count": 445,
     "metadata": {},
     "output_type": "execute_result"
    }
   ],
   "source": [
    "p1 = McNeuron.Neuron(swcP[12])\n",
    "p1.l_measure_features()\n",
    "p2 = McNeuron.Neuron(swcI[12])\n",
    "p2.l_measure_features()\n",
    "clf.predict([p1.getNeuronVector(),p2.getNeuronVector()])"
   ]
  },
  {
   "cell_type": "code",
   "execution_count": null,
   "metadata": {
    "collapsed": true
   },
   "outputs": [],
   "source": []
  },
  {
   "cell_type": "code",
   "execution_count": null,
   "metadata": {
    "collapsed": true
   },
   "outputs": [],
   "source": []
  },
  {
   "cell_type": "code",
   "execution_count": null,
   "metadata": {
    "collapsed": true
   },
   "outputs": [],
   "source": []
  }
 ],
 "metadata": {
  "kernelspec": {
   "display_name": "Python 3",
   "language": "python",
   "name": "python3"
  },
  "language_info": {
   "codemirror_mode": {
    "name": "ipython",
    "version": 3
   },
   "file_extension": ".py",
   "mimetype": "text/x-python",
   "name": "python",
   "nbconvert_exporter": "python",
   "pygments_lexer": "ipython3",
   "version": "3.6.2"
  }
 },
 "nbformat": 4,
 "nbformat_minor": 1
}
