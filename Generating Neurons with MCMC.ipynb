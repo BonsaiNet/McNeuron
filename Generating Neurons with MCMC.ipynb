{
 "cells": [
  {
   "cell_type": "markdown",
   "metadata": {},
   "source": [
    "# Generating neurons with MCMC algorithm\n",
    "This script presents the method of generating neuron using naive base Markov Chain Monte Carlo. The method can be summerize in two steps:\n",
    "- Reading the database and extracing the fetur\n",
    "- using MCMC to generate the neuron\n"
   ]
  },
  {
   "cell_type": "markdown",
   "metadata": {},
   "source": [
    "### Imports"
   ]
  },
  {
   "cell_type": "code",
   "execution_count": 1,
   "metadata": {},
   "outputs": [],
   "source": [
    "import numpy as np\n",
    "import McNeuron\n",
    "import matplotlib.pyplot as plt\n",
    "from copy import deepcopy\n",
    "from numpy.linalg import inv\n",
    "from collections import Counter\n",
    "import pickle\n",
    "%matplotlib inline"
   ]
  },
  {
   "cell_type": "markdown",
   "metadata": {},
   "source": [
    "## Load data"
   ]
  },
  {
   "cell_type": "code",
   "execution_count": 2,
   "metadata": {},
   "outputs": [
    {
     "ename": "FileNotFoundError",
     "evalue": "[Errno 2] No such file or directory: '/Users/anirudhnatarajan/Desktop/neuronData/neurons.csvlabel_all.p'",
     "output_type": "error",
     "traceback": [
      "\u001b[0;31m---------------------------------------------------------------------------\u001b[0m",
      "\u001b[0;31mFileNotFoundError\u001b[0m                         Traceback (most recent call last)",
      "\u001b[0;32m<ipython-input-2-c0cfa73973df>\u001b[0m in \u001b[0;36m<module>\u001b[0;34m()\u001b[0m\n\u001b[1;32m      1\u001b[0m \u001b[0mpath\u001b[0m \u001b[0;34m=\u001b[0m \u001b[0;34m\"/Users/anirudhnatarajan/Desktop/neuronData/neurons.csv\"\u001b[0m\u001b[0;34m\u001b[0m\u001b[0m\n\u001b[0;32m----> 2\u001b[0;31m \u001b[0mdata\u001b[0m \u001b[0;34m=\u001b[0m \u001b[0mMcNeuron\u001b[0m\u001b[0;34m.\u001b[0m\u001b[0mNeuronCollection\u001b[0m\u001b[0;34m.\u001b[0m\u001b[0mload_data\u001b[0m\u001b[0;34m(\u001b[0m\u001b[0mpath\u001b[0m\u001b[0;34m)\u001b[0m\u001b[0;34m\u001b[0m\u001b[0m\n\u001b[0m\u001b[1;32m      3\u001b[0m \u001b[0mCounter\u001b[0m\u001b[0;34m(\u001b[0m\u001b[0mdata\u001b[0m\u001b[0;34m[\u001b[0m\u001b[0;34m'Y'\u001b[0m\u001b[0;34m]\u001b[0m\u001b[0;34m[\u001b[0m\u001b[0;34m'Primary Cell Class'\u001b[0m\u001b[0;34m]\u001b[0m\u001b[0;34m)\u001b[0m\u001b[0;34m\u001b[0m\u001b[0m\n",
      "\u001b[0;32m~/Documents/UPenn/McNeuron/McNeuron/NeuronCollection.py\u001b[0m in \u001b[0;36mload_data\u001b[0;34m(path, with_swc)\u001b[0m\n\u001b[1;32m    142\u001b[0m \u001b[0;32mdef\u001b[0m \u001b[0mload_data\u001b[0m\u001b[0;34m(\u001b[0m\u001b[0mpath\u001b[0m\u001b[0;34m,\u001b[0m \u001b[0mwith_swc\u001b[0m\u001b[0;34m=\u001b[0m\u001b[0;32mTrue\u001b[0m\u001b[0;34m)\u001b[0m\u001b[0;34m:\u001b[0m\u001b[0;34m\u001b[0m\u001b[0m\n\u001b[1;32m    143\u001b[0m     \u001b[0mdata\u001b[0m \u001b[0;34m=\u001b[0m \u001b[0;34m{\u001b[0m\u001b[0;34m'X'\u001b[0m\u001b[0;34m:\u001b[0m\u001b[0;34m[\u001b[0m\u001b[0;34m]\u001b[0m\u001b[0;34m,\u001b[0m \u001b[0;34m'Y'\u001b[0m\u001b[0;34m:\u001b[0m\u001b[0;34m[\u001b[0m\u001b[0;34m]\u001b[0m\u001b[0;34m}\u001b[0m\u001b[0;34m\u001b[0m\u001b[0m\n\u001b[0;32m--> 144\u001b[0;31m     \u001b[0mdata\u001b[0m\u001b[0;34m[\u001b[0m\u001b[0;34m'Y'\u001b[0m\u001b[0;34m]\u001b[0m \u001b[0;34m=\u001b[0m \u001b[0mpickle\u001b[0m\u001b[0;34m.\u001b[0m\u001b[0mload\u001b[0m\u001b[0;34m(\u001b[0m\u001b[0mopen\u001b[0m\u001b[0;34m(\u001b[0m\u001b[0mpath\u001b[0m \u001b[0;34m+\u001b[0m \u001b[0;34m\"label_all.p\"\u001b[0m\u001b[0;34m,\u001b[0m \u001b[0;34m\"rb\"\u001b[0m\u001b[0;34m)\u001b[0m\u001b[0;34m)\u001b[0m\u001b[0;34m\u001b[0m\u001b[0m\n\u001b[0m\u001b[1;32m    145\u001b[0m     \u001b[0;32mif\u001b[0m \u001b[0mwith_swc\u001b[0m\u001b[0;34m:\u001b[0m\u001b[0;34m\u001b[0m\u001b[0m\n\u001b[1;32m    146\u001b[0m         \u001b[0mloc1\u001b[0m \u001b[0;34m=\u001b[0m \u001b[0mpath\u001b[0m \u001b[0;34m+\u001b[0m \u001b[0;34m\"swc1.mat\"\u001b[0m\u001b[0;34m\u001b[0m\u001b[0m\n",
      "\u001b[0;31mFileNotFoundError\u001b[0m: [Errno 2] No such file or directory: '/Users/anirudhnatarajan/Desktop/neuronData/neurons.csvlabel_all.p'"
     ]
    }
   ],
   "source": [
    "path = \"/Volumes/Arch/Dropbox/HG-GAN/03-Data/All Data/\"\n",
    "data = McNeuron.NeuronCollection.load_data(path)\n",
    "Counter(data['Y']['Primary Cell Class'])"
   ]
  },
  {
   "cell_type": "code",
   "execution_count": null,
   "metadata": {},
   "outputs": [],
   "source": [
    "data = pickle.load(open( \"sample_data.p\", \"rb\" ))"
   ]
  },
  {
   "cell_type": "markdown",
   "metadata": {},
   "source": [
    "## Get a subset of data"
   ]
  },
  {
   "cell_type": "code",
   "execution_count": null,
   "metadata": {},
   "outputs": [],
   "source": [
    "label = 'Archive Name'\n",
    "name = 'Hamad'\n",
    "sub_data = McNeuron.NeuronCollection.make_sub_data(data, label, name)"
   ]
  },
  {
   "cell_type": "markdown",
   "metadata": {},
   "source": [
    "## Making Database"
   ]
  },
  {
   "cell_type": "code",
   "execution_count": null,
   "metadata": {},
   "outputs": [],
   "source": [
    "hist_features = {\n",
    "    'branch_angle': np.arange(0,np.pi,np.pi/20),\n",
    "    'side_branch_angle': np.arange(0,np.pi,np.pi/20),\n",
    "    'global_angle': np.arange(0,np.pi,np.pi/20),\n",
    "    'local_angle': np.arange(0,np.pi,np.pi/20),\n",
    "    'curvature' : np.arange(0,np.pi,np.pi/20),\n",
    "    'neural_important' : np.arange(1,6,.3),\n",
    "    #'distance_from_parent' : np.arange(0,60,5),\n",
    "    }\n",
    "value_features = {\n",
    "    #'Nnodes',\n",
    "    'Nbranch',\n",
    "    #'Nsoma',\n",
    "    'initial_segments',\n",
    "    #'ratio_neural_euclidian_important',\n",
    "    #'ratio_euclidian_neuronal',\n",
    "    #'Npassnode',\n",
    "    'segmental_neuronal/euclidean',\n",
    "    'neuronal/euclidean'\n",
    "}\n",
    "vec_value = {\n",
    "    'pictural_image_xy',\n",
    "    'pictural_image_xy_tips',\n",
    "    'discrepancy_space',\n",
    "    'self_avoidance',\n",
    "    #'ratio_diameter_euclidean'\n",
    "}\n",
    "# c = McNeuron.NeuronCollection.Collection(input_format='swc', \n",
    "#                                           input_file=L_neuron[1830:1836])\n",
    "c = McNeuron.NeuronCollection.Collection()\n",
    "c.set_subsampling(400)\n",
    "c.fit(input_format='Matrix of swc', input_file=sub_data['X'])\n",
    "c.set_features()\n",
    "c.hist_features = hist_features\n",
    "c.vec_value = vec_value\n",
    "c.set_value(list_features=value_features)\n",
    "c.set_hist(list_features = hist_features,\n",
    "           hist_range=hist_features)\n",
    "c.set_vec_value(vec_value)\n",
    "c.avoid_zero_std(.001)\n",
    "McNeuron.visualize.show_database(c)"
   ]
  },
  {
   "cell_type": "markdown",
   "metadata": {},
   "source": [
    "## Normlizer"
   ]
  },
  {
   "cell_type": "code",
   "execution_count": null,
   "metadata": {},
   "outputs": [],
   "source": [
    "normlizer = c.normlizor(3)\n",
    "normlizer['pictural_image_xy'] *=1.35\n",
    "normlizer['pictural_image_xy_tips'] *=1.35\n",
    "normlizer['neuronal/euclidean'] *=1.5\n",
    "normlizer['Nbranch'] *=.3\n",
    "#normlizer['ratio_diameter_euclidean'] *=.3\n",
    "normlizer['self_avoidance'] *=2\n",
    "normlizer['local_angle'] *=1.5\n",
    "normlizer['segmental_neuronal/euclidean'] *=.5\n",
    "normlizer"
   ]
  },
  {
   "cell_type": "markdown",
   "metadata": {},
   "source": [
    "## MCMC on database"
   ]
  },
  {
   "cell_type": "code",
   "execution_count": null,
   "metadata": {},
   "outputs": [],
   "source": [
    "in_neuron = McNeuron.neuron_util.star_neuron(wing_number=9,\n",
    "                                             spherical=None,\n",
    "                                             node_on_each_wings=45,\n",
    "                                             length=12)\n",
    "#in_neuron = feature_neuron\n",
    "#in_neuron = c.database[0]\n",
    "per = McNeuron.MCMC(neuron=in_neuron, \n",
    "                    iterations=50, \n",
    "                    verbose=0)\n",
    "mean_len = in_neuron.distance_from_parent.mean()\n",
    "per.set_mean_var_length(mean=mean_len, var=mean_len/3)\n",
    "\n",
    "per.hist_features=hist_features\n",
    "per.value_features=value_features\n",
    "per.vec_value=vec_value\n",
    "per.set_verbose(0)\n",
    "per.set_trend()\n",
    "L = {\n",
    "     'extension/reduction': 0,\n",
    "     'extension/reduction end points': 0,\n",
    "     #'add/remove' : 0.,\n",
    "     #'rescale toward end' : 0,\n",
    "     #'diameter' : 0.,\n",
    "    \n",
    "     'diameter_toward' : 0. ,\n",
    "\n",
    "     'rotation for any node' : 3.,\n",
    "     'rotation for branching' : 6.,\n",
    "     #'location toward end' : 0.,\n",
    "     #'location' : .1,\n",
    "     #'location for important point' : .0,\n",
    "    \n",
    "     'sliding general' : .5,\n",
    "     'sliding certain in distance' : 3.,\n",
    "     'sliding for branching node' : 1.,\n",
    "     'sliding for branching node certain distance' : 3.,\n",
    "     #'stretching vertical' : .0,\n",
    "     #'stretching horizental' : .0\n",
    "}\n",
    "per.kappa_rotation = 400.\n",
    "per.rescale_value = 0\n",
    "per.sliding_limit = 300.\n",
    "per.horizental_stretch = .1\n",
    "per.vertical_stretch = .1\n",
    "per.location_toward_cte = .5\n",
    "per.location_important = 5.\n",
    "per.set_database(c)\n",
    "per.set_feature_normalizer(normlizer)\n",
    "per.set_probability(L)\n",
    "per.fit()\n",
    "gen = per.neuron\n",
    "McNeuron.visualize.plot_2D(gen,dpi = 120, line_width=2,size_x = 6);\n",
    "per.show_MCMC(1,14,6)\n",
    "#McNeuron.neuron_util.check_neuron(per.neuron)\n",
    "#per.neuron.show_features()"
   ]
  },
  {
   "cell_type": "markdown",
   "metadata": {},
   "source": [
    "## Start from the current neuron"
   ]
  },
  {
   "cell_type": "code",
   "execution_count": null,
   "metadata": {},
   "outputs": [],
   "source": [
    "per.set_n_iteration(10)\n",
    "per.set_verbose(0)\n",
    "#per.set_feature_normalizer(normlizer)\n",
    "#per.set_probability(L)\n",
    "per.fit()\n",
    "McNeuron.visualize.plot_2D(per.neuron, dpi = 120, line_width=2);\n",
    "per.show_MCMC(200,14,6)\n",
    "#per.neuron.show_features()"
   ]
  },
  {
   "cell_type": "code",
   "execution_count": null,
   "metadata": {
    "collapsed": true
   },
   "outputs": [],
   "source": [
    "per.set_n_iteration(1500)\n",
    "per.set_verbose(0)\n",
    "#per.set_feature_normalizer(normlizer)\n",
    "per.fit()\n",
    "McNeuron.visualize.plot_2D(per.neuron, dpi = 120, line_width=2);\n",
    "per.show_MCMC(600,14,6)\n",
    "#per.neuron.show_features()"
   ]
  },
  {
   "cell_type": "markdown",
   "metadata": {},
   "source": [
    "## Evolution"
   ]
  },
  {
   "cell_type": "code",
   "execution_count": null,
   "metadata": {
    "collapsed": true
   },
   "outputs": [],
   "source": [
    "McNeuron.visualize.plot_evolution_mcmc(per)"
   ]
  },
  {
   "cell_type": "markdown",
   "metadata": {},
   "source": [
    "## Save MCMC"
   ]
  },
  {
   "cell_type": "code",
   "execution_count": null,
   "metadata": {
    "collapsed": true
   },
   "outputs": [],
   "source": [
    "pickle.dump( per, open( \"per5.p\", \"wb\" ) )"
   ]
  }
 ],
 "metadata": {
  "kernelspec": {
   "display_name": "Python 3",
   "language": "python",
   "name": "python3"
  },
  "language_info": {
   "codemirror_mode": {
    "name": "ipython",
    "version": 3
   },
   "file_extension": ".py",
   "mimetype": "text/x-python",
   "name": "python",
   "nbconvert_exporter": "python",
   "pygments_lexer": "ipython3",
   "version": "3.6.2"
  }
 },
 "nbformat": 4,
 "nbformat_minor": 1
}
